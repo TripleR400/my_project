{
 "cells": [
  {
   "cell_type": "code",
   "execution_count": 1,
   "metadata": {
    "tags": [
     "nano  ~/  .bashrcexport PYTHONPATH=$PYTHONPATH:/path/to/flask_security"
    ]
   },
   "outputs": [
    {
     "name": "stdout",
     "output_type": "stream",
     "text": [
      "['C:\\\\path\\\\to\\\\flask_security', 'C:\\\\Program Files\\\\WindowsApps\\\\PythonSoftwareFoundation.Python.3.11_3.11.2544.0_x64__qbz5n2kfra8p0\\\\python311.zip', 'C:\\\\Program Files\\\\WindowsApps\\\\PythonSoftwareFoundation.Python.3.11_3.11.2544.0_x64__qbz5n2kfra8p0\\\\DLLs', 'C:\\\\Program Files\\\\WindowsApps\\\\PythonSoftwareFoundation.Python.3.11_3.11.2544.0_x64__qbz5n2kfra8p0\\\\Lib', 'C:\\\\Program Files\\\\WindowsApps\\\\PythonSoftwareFoundation.Python.3.11_3.11.2544.0_x64__qbz5n2kfra8p0', '', 'C:\\\\Users\\\\admin\\\\AppData\\\\Local\\\\Packages\\\\PythonSoftwareFoundation.Python.3.11_qbz5n2kfra8p0\\\\LocalCache\\\\local-packages\\\\Python311\\\\site-packages', 'C:\\\\Users\\\\admin\\\\AppData\\\\Local\\\\Packages\\\\PythonSoftwareFoundation.Python.3.11_qbz5n2kfra8p0\\\\LocalCache\\\\local-packages\\\\Python311\\\\site-packages\\\\win32', 'C:\\\\Users\\\\admin\\\\AppData\\\\Local\\\\Packages\\\\PythonSoftwareFoundation.Python.3.11_qbz5n2kfra8p0\\\\LocalCache\\\\local-packages\\\\Python311\\\\site-packages\\\\win32\\\\lib', 'C:\\\\Users\\\\admin\\\\AppData\\\\Local\\\\Packages\\\\PythonSoftwareFoundation.Python.3.11_qbz5n2kfra8p0\\\\LocalCache\\\\local-packages\\\\Python311\\\\site-packages\\\\Pythonwin', 'C:\\\\Program Files\\\\WindowsApps\\\\PythonSoftwareFoundation.Python.3.11_3.11.2544.0_x64__qbz5n2kfra8p0\\\\Lib\\\\site-packages']\n"
     ]
    }
   ],
   "source": [
    "import sys\n",
    "print(sys.path)\n",
    "\n",
    "\n"
   ]
  },
  {
   "cell_type": "code",
   "execution_count": null,
   "metadata": {},
   "outputs": [
    {
     "name": "stdout",
     "output_type": "stream",
     "text": [
      "Account created successfully!\n",
      "Login functionality...\n"
     ]
    }
   ],
   "source": [
    "import bcrypt\n",
    "from cryptography.hazmat.primitives.ciphers import Cipher, algorithms, modes\n",
    "from cryptography.hazmat.primitives.kdf.pbkdf2 import PBKDF2HMAC\n",
    "from cryptography.hazmat.backends import default_backend\n",
    "import os\n",
    "import base64\n",
    "\n",
    "# Generate key from a password\n",
    "def generate_key(password: str, salt: bytes):\n",
    "    kdf = PBKDF2HMAC(\n",
    "        algorithm=algorithms.SHA256,\n",
    "        length=32,\n",
    "        salt=salt,\n",
    "        iterations=100000,\n",
    "        backend=default_backend(),\n",
    "    )\n",
    "    return kdf.derive(password.encode())\n",
    "\n",
    "# AES encryption\n",
    "def encrypt_data(data: str, key: bytes):\n",
    "    iv = os.urandom(16)  # 16 bytes initialization vector\n",
    "    cipher = Cipher(algorithms.AES(key), modes.CFB(iv), backend=default_backend())\n",
    "    encryptor = cipher.encryptor()\n",
    "    encrypted_data = encryptor.update(data.encode()) + encryptor.finalize()\n",
    "    return base64.b64encode(iv + encrypted_data).decode()\n",
    "\n",
    "# AES decryption\n",
    "def decrypt_data(encrypted_data: str, key: bytes):\n",
    "    raw_data = base64.b64decode(encrypted_data)\n",
    "    iv, encrypted_content = raw_data[:16], raw_data[16:]\n",
    "    cipher = Cipher(algorithms.AES(key), modes.CFB(iv), backend=default_backend())\n",
    "    decryptor = cipher.decryptor()\n",
    "    return decryptor.update(encrypted_content) + decryptor.finalize()\n",
    "\n",
    "# Hash password using bcrypt\n",
    "def hash_password(password: str):\n",
    "    salt = bcrypt.gensalt()\n",
    "    return bcrypt.hashpw(password.encode(), salt).decode()\n",
    "\n",
    "# Verify bcrypt hashed password\n",
    "def verify_password(password: str, hashed_password: str):\n",
    "    return bcrypt.checkpw(password.encode(), hashed_password.encode())\n",
    "\n",
    "\n",
    "\n",
    " #User Class and Task Management\n",
    " #Define user class for agents\n",
    "import json\n",
    "import os\n",
    "\n",
    "class User:\n",
    "    def __init__(self, agent_id, username, password):\n",
    "        self.agent_id = agent_id\n",
    "        self.username = username\n",
    "        self.hashed_password = hash_password(password)\n",
    "        self.tasks = []\n",
    "\n",
    "    def to_dict(self):\n",
    "        return {\"agent_id\": self.agent_id, \"username\": self.username, \"password\": self.hashed_password, \"tasks\": self.tasks}\n",
    "    \n",
    "    @staticmethod\n",
    "    def save_user(user_data, file_path=\"users.json\"):\n",
    "        with open(file_path, \"w\") as f:\n",
    "            json.dump(user_data, f, indent=4)\n",
    "\n",
    "\n",
    "#Auditable encrypted log files for accountability.\n",
    "import datetime\n",
    "\n",
    "SECRET_LOG_KEY = b\"hardcoded_log_key_or_password_reset_key\"\n",
    "\n",
    "def log_activity(activity, file_path=\"log.json\"):\n",
    "    current_time = datetime.datetime.now().isoformat()\n",
    "    log_entry = f\"{current_time}: {activity}\"\n",
    "    encrypted_log = encrypt_data(log_entry, SECRET_LOG_KEY)\n",
    "    \n",
    "    with open(file_path, \"a\") as f:\n",
    "        f.write(encrypted_log + \"\\n\")\n",
    "\n",
    "\n",
    "#. CLI Interface with argparse \n",
    "import argparse\n",
    "import user_manager\n",
    "\n",
    "# Load existing user data\n",
    "def load_user_data(file_path=\"users.json\"):\n",
    "    if not os.path.exists(file_path):\n",
    "        return []\n",
    "    with open(file_path, \"r\") as f:\n",
    "        return json.load(f)\n",
    "\n",
    "# CLI Functionality\n",
    "def main():\n",
    "    parser = argparse.ArgumentParser(description=\"Encrypted Task Manager for Government Agents\")\n",
    "    parser.add_argument(\"action\", choices=[\"register\", \"login\", \"add_task\", \"view_tasks\"])\n",
    "\n",
    "    args = parser.parse_args()\n",
    "\n",
    "    if args.action == \"register\":\n",
    "        agent_id = input(\"Agent ID: \")\n",
    "        username = input(\"Username: \")\n",
    "        password = input(\"Password: \")\n",
    "        \n",
    "        user = User(agent_id, username, password)\n",
    "        users = load_user_data()\n",
    "        users.append(user.to_dict())\n",
    "        User.save_user(users)\n",
    "        print(\"Account created successfully!\")\n",
    "\n",
    "    elif args.action == \"login\":\n",
    "        username = input(\"Username: \")\n",
    "        password = input(\"Password: \")\n",
    "        print(\"Login functionality...\")"
   ]
  },
  {
   "cell_type": "markdown",
   "metadata": {},
   "source": [
    "# Project Report: Encrypted Task Manager\n",
    "\n",
    "## Overview of the Tool\n",
    "This tool provides secure task management for government agents by integrating encryption, authentication, and activity logging.\n",
    "IT enables government agents to securely:\n",
    "\n",
    "- Register and log in with agent IDs and passwords.\n",
    "- Manage tasks that include classification levels.\n",
    "- Store tasks encrypted using AES.\n",
    "- Maintain encrypted logs for auditing.\n",
    "\n",
    "##  Implemented Functionality\n",
    "- User registration with bcrypt password hashing.\n",
    "- AES encryption for tasks and logs.\n",
    "- Secure file management for sensitive user and task data.\n",
    "- CLI interface for usability.\n",
    "\n",
    "## Challenges Faced\n",
    "1. Implementing strong encryption while keeping it user-friendly.\n",
    "2. Designing a flexible CLI system that supported all core functionalities.\n",
    "\n",
    "## Overcome Challenges\n",
    "* I have not ever been taught on how to create hashed password so I undergone some research through google and followed up with it to complete this project.\n",
    "\n",
    "## Conclusion\n",
    "The project fulfills its goals of creating a secure task manager for agents.\n"
   ]
  },
  {
   "cell_type": "markdown",
   "metadata": {},
   "source": []
  }
 ],
 "metadata": {
  "kernelspec": {
   "display_name": "Python 3",
   "language": "python",
   "name": "python3"
  },
  "language_info": {
   "codemirror_mode": {
    "name": "ipython",
    "version": 3
   },
   "file_extension": ".py",
   "mimetype": "text/x-python",
   "name": "python",
   "nbconvert_exporter": "python",
   "pygments_lexer": "ipython3",
   "version": "3.11.9"
  }
 },
 "nbformat": 4,
 "nbformat_minor": 2
}
